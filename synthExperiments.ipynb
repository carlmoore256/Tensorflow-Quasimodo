{
 "metadata": {
  "language_info": {
   "codemirror_mode": {
    "name": "ipython",
    "version": 3
   },
   "file_extension": ".py",
   "mimetype": "text/x-python",
   "name": "python",
   "nbconvert_exporter": "python",
   "pygments_lexer": "ipython3",
   "version": "3.6.8-final"
  },
  "orig_nbformat": 2,
  "kernelspec": {
   "name": "python3",
   "display_name": "Python 3"
  }
 },
 "nbformat": 4,
 "nbformat_minor": 2,
 "cells": [
  {
   "cell_type": "code",
   "execution_count": 1,
   "metadata": {},
   "outputs": [],
   "source": [
    "from pyo import *"
   ]
  },
  {
   "cell_type": "code",
   "execution_count": 2,
   "metadata": {},
   "outputs": [],
   "source": [
    "s = Server().boot()\n",
    "\n",
    "# Two streams of midi pitches chosen randomly in a predefined list.\n",
    "# The argument `choice` of Choice object can be a list of lists to\n",
    "# list-expansion.\n",
    "mid = Choice(choice=[60, 62, 63, 65, 67, 69, 71, 72], freq=[2, 3])\n",
    "\n",
    "# Two small jitters applied on frequency streams.\n",
    "# Randi interpolates between old and new values.\n",
    "jit = Randi(min=0.993, max=1.007, freq=[4.3, 3.5])\n",
    "\n",
    "# Converts midi pitches to frequencies and applies the jitters.\n",
    "fr = MToF(mid, mul=jit)\n",
    "\n",
    "# Chooses a new feedback value, between 0 and 0.15, every 4 seconds.\n",
    "fd = Randi(min=0, max=0.15, freq=0.25)\n",
    "\n",
    "# RandInt generates a pseudo-random integer number between 0 and `max`\n",
    "# values at a frequency specified by `freq` parameter. It holds the\n",
    "# value until the next generation.\n",
    "# Generates an new LFO frequency once per second.\n",
    "sp = RandInt(max=6, freq=1, add=8)\n",
    "# Creates an LFO oscillating between 0 and 0.4.\n",
    "amp = Sine(sp, mul=0.2, add=0.2)\n",
    "\n",
    "# A simple synth...\n",
    "a = SineLoop(freq=fr, feedback=fd, mul=amp).out()\n",
    "\n",
    "s.gui(locals())"
   ]
  },
  {
   "cell_type": "code",
   "execution_count": null,
   "metadata": {},
   "outputs": [],
   "source": []
  }
 ]
}